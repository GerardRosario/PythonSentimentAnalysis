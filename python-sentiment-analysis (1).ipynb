{
 "cells": [
  {
   "cell_type": "code",
   "execution_count": 1,
   "id": "3f569cb8",
   "metadata": {
    "_cell_guid": "b1076dfc-b9ad-4769-8c92-a6c4dae69d19",
    "_uuid": "8f2839f25d086af736a60e9eeb907d3b93b6e0e5",
    "execution": {
     "iopub.execute_input": "2023-07-21T01:25:38.962378Z",
     "iopub.status.busy": "2023-07-21T01:25:38.961945Z",
     "iopub.status.idle": "2023-07-21T01:25:38.998975Z",
     "shell.execute_reply": "2023-07-21T01:25:38.997024Z"
    },
    "papermill": {
     "duration": 0.050407,
     "end_time": "2023-07-21T01:25:39.001983",
     "exception": false,
     "start_time": "2023-07-21T01:25:38.951576",
     "status": "completed"
    },
    "tags": []
   },
   "outputs": [
    {
     "name": "stdout",
     "output_type": "stream",
     "text": [
      "/kaggle/input/amazon-fine-food-review/Reviews.csv/Reviews.csv\n",
      "/kaggle/input/amazon-fine-food-review/database.sqlite/database.sqlite\n"
     ]
    }
   ],
   "source": [
    "# This Python 3 environment comes with many helpful analytics libraries installed\n",
    "# It is defined by the kaggle/python Docker image: https://github.com/kaggle/docker-python\n",
    "# For example, here's several helpful packages to load\n",
    "\n",
    "import numpy as np # linear algebra\n",
    "import pandas as pd # data processing, CSV file I/O (e.g. pd.read_csv)\n",
    "\n",
    "# Input data files are available in the read-only \"../input/\" directory\n",
    "# For example, running this (by clicking run or pressing Shift+Enter) will list all files under the input directory\n",
    "\n",
    "import os\n",
    "for dirname, _, filenames in os.walk('/kaggle/input'):\n",
    "    for filename in filenames:\n",
    "        print(os.path.join(dirname, filename))\n",
    "\n",
    "# You can write up to 20GB to the current directory (/kaggle/working/) that gets preserved as output when you create a version using \"Save & Run All\" \n",
    "# You can also write temporary files to /kaggle/temp/, but they won't be saved outside of the current session"
   ]
  },
  {
   "cell_type": "markdown",
   "id": "a45a035b",
   "metadata": {
    "papermill": {
     "duration": 0.007874,
     "end_time": "2023-07-21T01:25:39.018387",
     "exception": false,
     "start_time": "2023-07-21T01:25:39.010513",
     "status": "completed"
    },
    "tags": []
   },
   "source": [
    "# Sentiment Analysis in Pythobn\n",
    "\n",
    "Sentiment analysis in python suing these techniques:\n",
    "\n",
    "1. Vader (Valence Aware Dictionary and Sentiment Reasoner)\n",
    "2. Roberta Pretrained model\n",
    "3. Huggingface Pipeline"
   ]
  },
  {
   "cell_type": "markdown",
   "id": "a2e7d807",
   "metadata": {
    "papermill": {
     "duration": 0.007912,
     "end_time": "2023-07-21T01:25:39.034468",
     "exception": false,
     "start_time": "2023-07-21T01:25:39.026556",
     "status": "completed"
    },
    "tags": []
   },
   "source": [
    "## Step 0: Read in Data and NLTK Basics\n"
   ]
  },
  {
   "cell_type": "code",
   "execution_count": 2,
   "id": "33520c55",
   "metadata": {
    "execution": {
     "iopub.execute_input": "2023-07-21T01:25:39.052582Z",
     "iopub.status.busy": "2023-07-21T01:25:39.052185Z",
     "iopub.status.idle": "2023-07-21T01:25:41.542048Z",
     "shell.execute_reply": "2023-07-21T01:25:41.540555Z"
    },
    "papermill": {
     "duration": 2.502526,
     "end_time": "2023-07-21T01:25:41.545102",
     "exception": false,
     "start_time": "2023-07-21T01:25:39.042576",
     "status": "completed"
    },
    "tags": []
   },
   "outputs": [
    {
     "name": "stderr",
     "output_type": "stream",
     "text": [
      "/opt/conda/lib/python3.10/site-packages/scipy/__init__.py:146: UserWarning: A NumPy version >=1.16.5 and <1.23.0 is required for this version of SciPy (detected version 1.23.5\n",
      "  warnings.warn(f\"A NumPy version >={np_minversion} and <{np_maxversion}\"\n"
     ]
    }
   ],
   "source": [
    "import pandas as pd\n",
    "import numpy as np\n",
    "import matplotlib.pyplot as plt\n",
    "import seaborn as sns\n",
    "\n",
    "plt.style.use('ggplot')\n",
    "\n",
    "import nltk"
   ]
  },
  {
   "cell_type": "code",
   "execution_count": 3,
   "id": "55b6f0bf",
   "metadata": {
    "execution": {
     "iopub.execute_input": "2023-07-21T01:25:41.564025Z",
     "iopub.status.busy": "2023-07-21T01:25:41.563594Z",
     "iopub.status.idle": "2023-07-21T01:25:49.834663Z",
     "shell.execute_reply": "2023-07-21T01:25:49.833356Z"
    },
    "papermill": {
     "duration": 8.284064,
     "end_time": "2023-07-21T01:25:49.837579",
     "exception": false,
     "start_time": "2023-07-21T01:25:41.553515",
     "status": "completed"
    },
    "tags": []
   },
   "outputs": [
    {
     "name": "stdout",
     "output_type": "stream",
     "text": [
      "(568454, 10)\n",
      "(500, 10)\n"
     ]
    }
   ],
   "source": [
    "# Read the data\n",
    "df = pd.read_csv('/kaggle/input/amazon-fine-food-review/Reviews.csv/Reviews.csv')\n",
    "print(df.shape)\n",
    "df = df.head(500)\n",
    "print(df.shape)"
   ]
  },
  {
   "cell_type": "code",
   "execution_count": 4,
   "id": "eebdc27e",
   "metadata": {
    "execution": {
     "iopub.execute_input": "2023-07-21T01:25:49.857920Z",
     "iopub.status.busy": "2023-07-21T01:25:49.856791Z",
     "iopub.status.idle": "2023-07-21T01:25:49.886472Z",
     "shell.execute_reply": "2023-07-21T01:25:49.885201Z"
    },
    "papermill": {
     "duration": 0.042605,
     "end_time": "2023-07-21T01:25:49.889234",
     "exception": false,
     "start_time": "2023-07-21T01:25:49.846629",
     "status": "completed"
    },
    "tags": []
   },
   "outputs": [
    {
     "data": {
      "text/html": [
       "<div>\n",
       "<style scoped>\n",
       "    .dataframe tbody tr th:only-of-type {\n",
       "        vertical-align: middle;\n",
       "    }\n",
       "\n",
       "    .dataframe tbody tr th {\n",
       "        vertical-align: top;\n",
       "    }\n",
       "\n",
       "    .dataframe thead th {\n",
       "        text-align: right;\n",
       "    }\n",
       "</style>\n",
       "<table border=\"1\" class=\"dataframe\">\n",
       "  <thead>\n",
       "    <tr style=\"text-align: right;\">\n",
       "      <th></th>\n",
       "      <th>Id</th>\n",
       "      <th>ProductId</th>\n",
       "      <th>UserId</th>\n",
       "      <th>ProfileName</th>\n",
       "      <th>HelpfulnessNumerator</th>\n",
       "      <th>HelpfulnessDenominator</th>\n",
       "      <th>Score</th>\n",
       "      <th>Time</th>\n",
       "      <th>Summary</th>\n",
       "      <th>Text</th>\n",
       "    </tr>\n",
       "  </thead>\n",
       "  <tbody>\n",
       "    <tr>\n",
       "      <th>0</th>\n",
       "      <td>1</td>\n",
       "      <td>B001E4KFG0</td>\n",
       "      <td>A3SGXH7AUHU8GW</td>\n",
       "      <td>delmartian</td>\n",
       "      <td>1</td>\n",
       "      <td>1</td>\n",
       "      <td>5</td>\n",
       "      <td>1303862400</td>\n",
       "      <td>Good Quality Dog Food</td>\n",
       "      <td>I have bought several of the Vitality canned d...</td>\n",
       "    </tr>\n",
       "    <tr>\n",
       "      <th>1</th>\n",
       "      <td>2</td>\n",
       "      <td>B00813GRG4</td>\n",
       "      <td>A1D87F6ZCVE5NK</td>\n",
       "      <td>dll pa</td>\n",
       "      <td>0</td>\n",
       "      <td>0</td>\n",
       "      <td>1</td>\n",
       "      <td>1346976000</td>\n",
       "      <td>Not as Advertised</td>\n",
       "      <td>Product arrived labeled as Jumbo Salted Peanut...</td>\n",
       "    </tr>\n",
       "    <tr>\n",
       "      <th>2</th>\n",
       "      <td>3</td>\n",
       "      <td>B000LQOCH0</td>\n",
       "      <td>ABXLMWJIXXAIN</td>\n",
       "      <td>Natalia Corres \"Natalia Corres\"</td>\n",
       "      <td>1</td>\n",
       "      <td>1</td>\n",
       "      <td>4</td>\n",
       "      <td>1219017600</td>\n",
       "      <td>\"Delight\" says it all</td>\n",
       "      <td>This is a confection that has been around a fe...</td>\n",
       "    </tr>\n",
       "    <tr>\n",
       "      <th>3</th>\n",
       "      <td>4</td>\n",
       "      <td>B000UA0QIQ</td>\n",
       "      <td>A395BORC6FGVXV</td>\n",
       "      <td>Karl</td>\n",
       "      <td>3</td>\n",
       "      <td>3</td>\n",
       "      <td>2</td>\n",
       "      <td>1307923200</td>\n",
       "      <td>Cough Medicine</td>\n",
       "      <td>If you are looking for the secret ingredient i...</td>\n",
       "    </tr>\n",
       "    <tr>\n",
       "      <th>4</th>\n",
       "      <td>5</td>\n",
       "      <td>B006K2ZZ7K</td>\n",
       "      <td>A1UQRSCLF8GW1T</td>\n",
       "      <td>Michael D. Bigham \"M. Wassir\"</td>\n",
       "      <td>0</td>\n",
       "      <td>0</td>\n",
       "      <td>5</td>\n",
       "      <td>1350777600</td>\n",
       "      <td>Great taffy</td>\n",
       "      <td>Great taffy at a great price.  There was a wid...</td>\n",
       "    </tr>\n",
       "  </tbody>\n",
       "</table>\n",
       "</div>"
      ],
      "text/plain": [
       "   Id   ProductId          UserId                      ProfileName  \\\n",
       "0   1  B001E4KFG0  A3SGXH7AUHU8GW                       delmartian   \n",
       "1   2  B00813GRG4  A1D87F6ZCVE5NK                           dll pa   \n",
       "2   3  B000LQOCH0   ABXLMWJIXXAIN  Natalia Corres \"Natalia Corres\"   \n",
       "3   4  B000UA0QIQ  A395BORC6FGVXV                             Karl   \n",
       "4   5  B006K2ZZ7K  A1UQRSCLF8GW1T    Michael D. Bigham \"M. Wassir\"   \n",
       "\n",
       "   HelpfulnessNumerator  HelpfulnessDenominator  Score        Time  \\\n",
       "0                     1                       1      5  1303862400   \n",
       "1                     0                       0      1  1346976000   \n",
       "2                     1                       1      4  1219017600   \n",
       "3                     3                       3      2  1307923200   \n",
       "4                     0                       0      5  1350777600   \n",
       "\n",
       "                 Summary                                               Text  \n",
       "0  Good Quality Dog Food  I have bought several of the Vitality canned d...  \n",
       "1      Not as Advertised  Product arrived labeled as Jumbo Salted Peanut...  \n",
       "2  \"Delight\" says it all  This is a confection that has been around a fe...  \n",
       "3         Cough Medicine  If you are looking for the secret ingredient i...  \n",
       "4            Great taffy  Great taffy at a great price.  There was a wid...  "
      ]
     },
     "execution_count": 4,
     "metadata": {},
     "output_type": "execute_result"
    }
   ],
   "source": [
    "df.head()"
   ]
  },
  {
   "cell_type": "markdown",
   "id": "c483b1e7",
   "metadata": {
    "papermill": {
     "duration": 0.008323,
     "end_time": "2023-07-21T01:25:49.906568",
     "exception": false,
     "start_time": "2023-07-21T01:25:49.898245",
     "status": "completed"
    },
    "tags": []
   },
   "source": [
    "## Quick EDA"
   ]
  },
  {
   "cell_type": "code",
   "execution_count": 5,
   "id": "2fea2319",
   "metadata": {
    "execution": {
     "iopub.execute_input": "2023-07-21T01:25:49.927969Z",
     "iopub.status.busy": "2023-07-21T01:25:49.926712Z",
     "iopub.status.idle": "2023-07-21T01:25:50.306297Z",
     "shell.execute_reply": "2023-07-21T01:25:50.304735Z"
    },
    "papermill": {
     "duration": 0.392564,
     "end_time": "2023-07-21T01:25:50.309127",
     "exception": false,
     "start_time": "2023-07-21T01:25:49.916563",
     "status": "completed"
    },
    "tags": []
   },
   "outputs": [
    {
     "data": {
      "image/png": "[encoded data removed]",
      "text/plain": [
       "<Figure size 1000x500 with 1 Axes>"
      ]
     },
     "metadata": {},
     "output_type": "display_data"
    }
   ],
   "source": [
    "ax = df['Score'].value_counts().sort_index().plot(kind='bar', title='Count of Reviews by Stars',\n",
    "                                    figsize=(10,5))\n",
    "ax.set_xlabel('Review Stars')\n",
    "plt.show()"
   ]
  },
  {
   "cell_type": "markdown",
   "id": "882ab6cc",
   "metadata": {
    "papermill": {
     "duration": 0.009767,
     "end_time": "2023-07-21T01:25:50.328098",
     "exception": false,
     "start_time": "2023-07-21T01:25:50.318331",
     "status": "completed"
    },
    "tags": []
   },
   "source": [
    "## Basicc NLTK"
   ]
  },
  {
   "cell_type": "code",
   "execution_count": 6,
   "id": "6366b189",
   "metadata": {
    "execution": {
     "iopub.execute_input": "2023-07-21T01:25:50.349544Z",
     "iopub.status.busy": "2023-07-21T01:25:50.348286Z",
     "iopub.status.idle": "2023-07-21T01:25:50.355271Z",
     "shell.execute_reply": "2023-07-21T01:25:50.353931Z"
    },
    "papermill": {
     "duration": 0.020042,
     "end_time": "2023-07-21T01:25:50.357702",
     "exception": false,
     "start_time": "2023-07-21T01:25:50.337660",
     "status": "completed"
    },
    "tags": []
   },
   "outputs": [
    {
     "name": "stdout",
     "output_type": "stream",
     "text": [
      "This oatmeal is not good. Its mushy, soft, I don't like it. Quaker Oats is the way to go.\n"
     ]
    }
   ],
   "source": [
    "example = df['Text'][50]\n",
    "print(example)"
   ]
  },
  {
   "cell_type": "code",
   "execution_count": 7,
   "id": "2428d7f7",
   "metadata": {
    "execution": {
     "iopub.execute_input": "2023-07-21T01:25:50.378490Z",
     "iopub.status.busy": "2023-07-21T01:25:50.378084Z",
     "iopub.status.idle": "2023-07-21T01:25:50.401931Z",
     "shell.execute_reply": "2023-07-21T01:25:50.400736Z"
    },
    "papermill": {
     "duration": 0.037542,
     "end_time": "2023-07-21T01:25:50.404701",
     "exception": false,
     "start_time": "2023-07-21T01:25:50.367159",
     "status": "completed"
    },
    "tags": []
   },
   "outputs": [
    {
     "data": {
      "text/plain": [
       "['This', 'oatmeal', 'is', 'not', 'good', '.', 'Its', 'mushy', ',', 'soft']"
      ]
     },
     "execution_count": 7,
     "metadata": {},
     "output_type": "execute_result"
    }
   ],
   "source": [
    "tokens = nltk.word_tokenize(example)\n",
    "tokens[:10]"
   ]
  },
  {
   "cell_type": "code",
   "execution_count": 8,
   "id": "80b024aa",
   "metadata": {
    "execution": {
     "iopub.execute_input": "2023-07-21T01:25:50.427471Z",
     "iopub.status.busy": "2023-07-21T01:25:50.426618Z",
     "iopub.status.idle": "2023-07-21T01:25:50.586786Z",
     "shell.execute_reply": "2023-07-21T01:25:50.585315Z"
    },
    "papermill": {
     "duration": 0.175443,
     "end_time": "2023-07-21T01:25:50.589995",
     "exception": false,
     "start_time": "2023-07-21T01:25:50.414552",
     "status": "completed"
    },
    "tags": []
   },
   "outputs": [
    {
     "data": {
      "text/plain": [
       "[('This', 'DT'),\n",
       " ('oatmeal', 'NN'),\n",
       " ('is', 'VBZ'),\n",
       " ('not', 'RB'),\n",
       " ('good', 'JJ'),\n",
       " ('.', '.'),\n",
       " ('Its', 'PRP$'),\n",
       " ('mushy', 'NN'),\n",
       " (',', ','),\n",
       " ('soft', 'JJ')]"
      ]
     },
     "execution_count": 8,
     "metadata": {},
     "output_type": "execute_result"
    }
   ],
   "source": [
    "tagged = nltk.pos_tag(tokens)\n",
    "tagged[:10]"
   ]
  },
  {
   "cell_type": "code",
   "execution_count": 9,
   "id": "5a5d3f7f",
   "metadata": {
    "execution": {
     "iopub.execute_input": "2023-07-21T01:25:50.611507Z",
     "iopub.status.busy": "2023-07-21T01:25:50.611058Z",
     "iopub.status.idle": "2023-07-21T01:25:50.762092Z",
     "shell.execute_reply": "2023-07-21T01:25:50.760530Z"
    },
    "papermill": {
     "duration": 0.165256,
     "end_time": "2023-07-21T01:25:50.764997",
     "exception": false,
     "start_time": "2023-07-21T01:25:50.599741",
     "status": "completed"
    },
    "tags": []
   },
   "outputs": [
    {
     "name": "stdout",
     "output_type": "stream",
     "text": [
      "(S\n",
      "  This/DT\n",
      "  oatmeal/NN\n",
      "  is/VBZ\n",
      "  not/RB\n",
      "  good/JJ\n",
      "  ./.\n",
      "  Its/PRP$\n",
      "  mushy/NN\n",
      "  ,/,\n",
      "  soft/JJ\n",
      "  ,/,\n",
      "  I/PRP\n",
      "  do/VBP\n",
      "  n't/RB\n",
      "  like/VB\n",
      "  it/PRP\n",
      "  ./.\n",
      "  (ORGANIZATION Quaker/NNP Oats/NNPS)\n",
      "  is/VBZ\n",
      "  the/DT\n",
      "  way/NN\n",
      "  to/TO\n",
      "  go/VB\n",
      "  ./.)\n"
     ]
    }
   ],
   "source": [
    "entities = nltk.chunk.ne_chunk(tagged)\n",
    "entities.pprint()"
   ]
  },
  {
   "cell_type": "markdown",
   "id": "921ea4d7",
   "metadata": {
    "papermill": {
     "duration": 0.009455,
     "end_time": "2023-07-21T01:25:50.784355",
     "exception": false,
     "start_time": "2023-07-21T01:25:50.774900",
     "status": "completed"
    },
    "tags": []
   },
   "source": [
    "## Step 1: VADER Sentiment Scoring"
   ]
  },
  {
   "cell_type": "markdown",
   "id": "b014c83e",
   "metadata": {
    "papermill": {
     "duration": 0.009681,
     "end_time": "2023-07-21T01:25:50.803928",
     "exception": false,
     "start_time": "2023-07-21T01:25:50.794247",
     "status": "completed"
    },
    "tags": []
   },
   "source": [
    "We will use NLTK's SentimentIntensityAnalyzer to get th eneg/neu/pos scores of the text"
   ]
  },
  {
   "cell_type": "markdown",
   "id": "33510bfc",
   "metadata": {
    "papermill": {
     "duration": 0.009443,
     "end_time": "2023-07-21T01:25:50.823488",
     "exception": false,
     "start_time": "2023-07-21T01:25:50.814045",
     "status": "completed"
    },
    "tags": []
   },
   "source": [
    "* This uses a \"bag of words\" approach:\n",
    "    1.  Stop words are removed\n",
    "    2. each word is scored and combined to a total score"
   ]
  },
  {
   "cell_type": "code",
   "execution_count": 10,
   "id": "ceade54b",
   "metadata": {
    "execution": {
     "iopub.execute_input": "2023-07-21T01:25:50.845201Z",
     "iopub.status.busy": "2023-07-21T01:25:50.844749Z",
     "iopub.status.idle": "2023-07-21T01:25:50.889517Z",
     "shell.execute_reply": "2023-07-21T01:25:50.888225Z"
    },
    "papermill": {
     "duration": 0.059348,
     "end_time": "2023-07-21T01:25:50.892653",
     "exception": false,
     "start_time": "2023-07-21T01:25:50.833305",
     "status": "completed"
    },
    "tags": []
   },
   "outputs": [
    {
     "name": "stderr",
     "output_type": "stream",
     "text": [
      "/opt/conda/lib/python3.10/site-packages/nltk/twitter/__init__.py:20: UserWarning: The twython library has not been installed. Some functionality from the twitter package will not be available.\n",
      "  warnings.warn(\"The twython library has not been installed. \"\n"
     ]
    }
   ],
   "source": [
    "from nltk.sentiment import SentimentIntensityAnalyzer\n",
    "from tqdm.notebook import tqdm\n",
    "\n",
    "sia = SentimentIntensityAnalyzer()"
   ]
  },
  {
   "cell_type": "code",
   "execution_count": 11,
   "id": "6d020cb5",
   "metadata": {
    "execution": {
     "iopub.execute_input": "2023-07-21T01:25:50.915280Z",
     "iopub.status.busy": "2023-07-21T01:25:50.914819Z",
     "iopub.status.idle": "2023-07-21T01:25:50.923347Z",
     "shell.execute_reply": "2023-07-21T01:25:50.921728Z"
    },
    "papermill": {
     "duration": 0.02396,
     "end_time": "2023-07-21T01:25:50.926496",
     "exception": false,
     "start_time": "2023-07-21T01:25:50.902536",
     "status": "completed"
    },
    "tags": []
   },
   "outputs": [
    {
     "data": {
      "text/plain": [
       "{'neg': 0.0, 'neu': 0.318, 'pos': 0.682, 'compound': 0.6468}"
      ]
     },
     "execution_count": 11,
     "metadata": {},
     "output_type": "execute_result"
    }
   ],
   "source": [
    "sia.polarity_scores('I am so happy!')"
   ]
  },
  {
   "cell_type": "code",
   "execution_count": 12,
   "id": "a906cbab",
   "metadata": {
    "execution": {
     "iopub.execute_input": "2023-07-21T01:25:50.949876Z",
     "iopub.status.busy": "2023-07-21T01:25:50.949454Z",
     "iopub.status.idle": "2023-07-21T01:25:50.957426Z",
     "shell.execute_reply": "2023-07-21T01:25:50.956044Z"
    },
    "papermill": {
     "duration": 0.023246,
     "end_time": "2023-07-21T01:25:50.960322",
     "exception": false,
     "start_time": "2023-07-21T01:25:50.937076",
     "status": "completed"
    },
    "tags": []
   },
   "outputs": [
    {
     "data": {
      "text/plain": [
       "{'neg': 0.451, 'neu': 0.549, 'pos': 0.0, 'compound': -0.6249}"
      ]
     },
     "execution_count": 12,
     "metadata": {},
     "output_type": "execute_result"
    }
   ],
   "source": [
    "sia.polarity_scores('This is the worst thing ever')"
   ]
  },
  {
   "cell_type": "code",
   "execution_count": 13,
   "id": "9729add7",
   "metadata": {
    "execution": {
     "iopub.execute_input": "2023-07-21T01:25:50.983423Z",
     "iopub.status.busy": "2023-07-21T01:25:50.982991Z",
     "iopub.status.idle": "2023-07-21T01:25:50.991289Z",
     "shell.execute_reply": "2023-07-21T01:25:50.989735Z"
    },
    "papermill": {
     "duration": 0.02266,
     "end_time": "2023-07-21T01:25:50.993646",
     "exception": false,
     "start_time": "2023-07-21T01:25:50.970986",
     "status": "completed"
    },
    "tags": []
   },
   "outputs": [
    {
     "data": {
      "text/plain": [
       "{'neg': 0.22, 'neu': 0.78, 'pos': 0.0, 'compound': -0.5448}"
      ]
     },
     "execution_count": 13,
     "metadata": {},
     "output_type": "execute_result"
    }
   ],
   "source": [
    "sia.polarity_scores(example)"
   ]
  },
  {
   "cell_type": "code",
   "execution_count": 14,
   "id": "88a57470",
   "metadata": {
    "execution": {
     "iopub.execute_input": "2023-07-21T01:25:51.016044Z",
     "iopub.status.busy": "2023-07-21T01:25:51.015575Z",
     "iopub.status.idle": "2023-07-21T01:25:51.703159Z",
     "shell.execute_reply": "2023-07-21T01:25:51.701817Z"
    },
    "papermill": {
     "duration": 0.7019,
     "end_time": "2023-07-21T01:25:51.705987",
     "exception": false,
     "start_time": "2023-07-21T01:25:51.004087",
     "status": "completed"
    },
    "tags": []
   },
   "outputs": [
    {
     "data": {
      "application/vnd.jupyter.widget-view+json": {
       "model_id": "dfb8e0b76bfb4025a77b86d3fd4c42cf",
       "version_major": 2,
       "version_minor": 0
      },
      "text/plain": [
       "  0%|          | 0/500 [00:00<?, ?it/s]"
      ]
     },
     "metadata": {},
     "output_type": "display_data"
    }
   ],
   "source": [
    "# Run the polarity score on the entire dataset\n",
    "res = {}\n",
    "for i, row in tqdm(df.iterrows(), total=len(df)):\n",
    "    text = row['Text']\n",
    "    myid = row['Id']\n",
    "    res[myid] = sia.polarity_scores(text)"
   ]
  },
  {
   "cell_type": "markdown",
   "id": "6556c334",
   "metadata": {
    "papermill": {
     "duration": 0.010045,
     "end_time": "2023-07-21T01:25:51.726544",
     "exception": false,
     "start_time": "2023-07-21T01:25:51.716499",
     "status": "completed"
    },
    "tags": []
   },
   "source": []
  },
  {
   "cell_type": "code",
   "execution_count": 15,
   "id": "2992ec6e",
   "metadata": {
    "execution": {
     "iopub.execute_input": "2023-07-21T01:25:51.749891Z",
     "iopub.status.busy": "2023-07-21T01:25:51.749424Z",
     "iopub.status.idle": "2023-07-21T01:25:51.785227Z",
     "shell.execute_reply": "2023-07-21T01:25:51.784038Z"
    },
    "papermill": {
     "duration": 0.050682,
     "end_time": "2023-07-21T01:25:51.788105",
     "exception": false,
     "start_time": "2023-07-21T01:25:51.737423",
     "status": "completed"
    },
    "tags": []
   },
   "outputs": [],
   "source": [
    "vaders = pd.DataFrame(res).T\n",
    "vaders = vaders.reset_index().rename(columns={'index': 'Id'})\n",
    "vaders = vaders.merge(df, how='left')"
   ]
  },
  {
   "cell_type": "code",
   "execution_count": 16,
   "id": "a29eec85",
   "metadata": {
    "execution": {
     "iopub.execute_input": "2023-07-21T01:25:51.810661Z",
     "iopub.status.busy": "2023-07-21T01:25:51.810231Z",
     "iopub.status.idle": "2023-07-21T01:25:51.830207Z",
     "shell.execute_reply": "2023-07-21T01:25:51.829307Z"
    },
    "papermill": {
     "duration": 0.034041,
     "end_time": "2023-07-21T01:25:51.832545",
     "exception": false,
     "start_time": "2023-07-21T01:25:51.798504",
     "status": "completed"
    },
    "tags": []
   },
   "outputs": [
    {
     "data": {
      "text/html": [
       "<div>\n",
       "<style scoped>\n",
       "    .dataframe tbody tr th:only-of-type {\n",
       "        vertical-align: middle;\n",
       "    }\n",
       "\n",
       "    .dataframe tbody tr th {\n",
       "        vertical-align: top;\n",
       "    }\n",
       "\n",
       "    .dataframe thead th {\n",
       "        text-align: right;\n",
       "    }\n",
       "</style>\n",
       "<table border=\"1\" class=\"dataframe\">\n",
       "  <thead>\n",
       "    <tr style=\"text-align: right;\">\n",
       "      <th></th>\n",
       "      <th>Id</th>\n",
       "      <th>neg</th>\n",
       "      <th>neu</th>\n",
       "      <th>pos</th>\n",
       "      <th>compound</th>\n",
       "      <th>ProductId</th>\n",
       "      <th>UserId</th>\n",
       "      <th>ProfileName</th>\n",
       "      <th>HelpfulnessNumerator</th>\n",
       "      <th>HelpfulnessDenominator</th>\n",
       "      <th>Score</th>\n",
       "      <th>Time</th>\n",
       "      <th>Summary</th>\n",
       "      <th>Text</th>\n",
       "    </tr>\n",
       "  </thead>\n",
       "  <tbody>\n",
       "    <tr>\n",
       "      <th>0</th>\n",
       "      <td>1</td>\n",
       "      <td>0.000</td>\n",
       "      <td>0.695</td>\n",
       "      <td>0.305</td>\n",
       "      <td>0.9441</td>\n",
       "      <td>B001E4KFG0</td>\n",
       "      <td>A3SGXH7AUHU8GW</td>\n",
       "      <td>delmartian</td>\n",
       "      <td>1</td>\n",
       "      <td>1</td>\n",
       "      <td>5</td>\n",
       "      <td>1303862400</td>\n",
       "      <td>Good Quality Dog Food</td>\n",
       "      <td>I have bought several of the Vitality canned d...</td>\n",
       "    </tr>\n",
       "    <tr>\n",
       "      <th>1</th>\n",
       "      <td>2</td>\n",
       "      <td>0.079</td>\n",
       "      <td>0.853</td>\n",
       "      <td>0.068</td>\n",
       "      <td>-0.1027</td>\n",
       "      <td>B00813GRG4</td>\n",
       "      <td>A1D87F6ZCVE5NK</td>\n",
       "      <td>dll pa</td>\n",
       "      <td>0</td>\n",
       "      <td>0</td>\n",
       "      <td>1</td>\n",
       "      <td>1346976000</td>\n",
       "      <td>Not as Advertised</td>\n",
       "      <td>Product arrived labeled as Jumbo Salted Peanut...</td>\n",
       "    </tr>\n",
       "    <tr>\n",
       "      <th>2</th>\n",
       "      <td>3</td>\n",
       "      <td>0.091</td>\n",
       "      <td>0.754</td>\n",
       "      <td>0.155</td>\n",
       "      <td>0.8265</td>\n",
       "      <td>B000LQOCH0</td>\n",
       "      <td>ABXLMWJIXXAIN</td>\n",
       "      <td>Natalia Corres \"Natalia Corres\"</td>\n",
       "      <td>1</td>\n",
       "      <td>1</td>\n",
       "      <td>4</td>\n",
       "      <td>1219017600</td>\n",
       "      <td>\"Delight\" says it all</td>\n",
       "      <td>This is a confection that has been around a fe...</td>\n",
       "    </tr>\n",
       "    <tr>\n",
       "      <th>3</th>\n",
       "      <td>4</td>\n",
       "      <td>0.000</td>\n",
       "      <td>1.000</td>\n",
       "      <td>0.000</td>\n",
       "      <td>0.0000</td>\n",
       "      <td>B000UA0QIQ</td>\n",
       "      <td>A395BORC6FGVXV</td>\n",
       "      <td>Karl</td>\n",
       "      <td>3</td>\n",
       "      <td>3</td>\n",
       "      <td>2</td>\n",
       "      <td>1307923200</td>\n",
       "      <td>Cough Medicine</td>\n",
       "      <td>If you are looking for the secret ingredient i...</td>\n",
       "    </tr>\n",
       "    <tr>\n",
       "      <th>4</th>\n",
       "      <td>5</td>\n",
       "      <td>0.000</td>\n",
       "      <td>0.552</td>\n",
       "      <td>0.448</td>\n",
       "      <td>0.9468</td>\n",
       "      <td>B006K2ZZ7K</td>\n",
       "      <td>A1UQRSCLF8GW1T</td>\n",
       "      <td>Michael D. Bigham \"M. Wassir\"</td>\n",
       "      <td>0</td>\n",
       "      <td>0</td>\n",
       "      <td>5</td>\n",
       "      <td>1350777600</td>\n",
       "      <td>Great taffy</td>\n",
       "      <td>Great taffy at a great price.  There was a wid...</td>\n",
       "    </tr>\n",
       "  </tbody>\n",
       "</table>\n",
       "</div>"
      ],
      "text/plain": [
       "   Id    neg    neu    pos  compound   ProductId          UserId  \\\n",
       "0   1  0.000  0.695  0.305    0.9441  B001E4KFG0  A3SGXH7AUHU8GW   \n",
       "1   2  0.079  0.853  0.068   -0.1027  B00813GRG4  A1D87F6ZCVE5NK   \n",
       "2   3  0.091  0.754  0.155    0.8265  B000LQOCH0   ABXLMWJIXXAIN   \n",
       "3   4  0.000  1.000  0.000    0.0000  B000UA0QIQ  A395BORC6FGVXV   \n",
       "4   5  0.000  0.552  0.448    0.9468  B006K2ZZ7K  A1UQRSCLF8GW1T   \n",
       "\n",
       "                       ProfileName  HelpfulnessNumerator  \\\n",
       "0                       delmartian                     1   \n",
       "1                           dll pa                     0   \n",
       "2  Natalia Corres \"Natalia Corres\"                     1   \n",
       "3                             Karl                     3   \n",
       "4    Michael D. Bigham \"M. Wassir\"                     0   \n",
       "\n",
       "   HelpfulnessDenominator  Score        Time                Summary  \\\n",
       "0                       1      5  1303862400  Good Quality Dog Food   \n",
       "1                       0      1  1346976000      Not as Advertised   \n",
       "2                       1      4  1219017600  \"Delight\" says it all   \n",
       "3                       3      2  1307923200         Cough Medicine   \n",
       "4                       0      5  1350777600            Great taffy   \n",
       "\n",
       "                                                Text  \n",
       "0  I have bought several of the Vitality canned d...  \n",
       "1  Product arrived labeled as Jumbo Salted Peanut...  \n",
       "2  This is a confection that has been around a fe...  \n",
       "3  If you are looking for the secret ingredient i...  \n",
       "4  Great taffy at a great price.  There was a wid...  "
      ]
     },
     "execution_count": 16,
     "metadata": {},
     "output_type": "execute_result"
    }
   ],
   "source": [
    "# Now we have sentiment score and metadata\n",
    "vaders.head()"
   ]
  },
  {
   "cell_type": "markdown",
   "id": "591cc79f",
   "metadata": {
    "papermill": {
     "duration": 0.010306,
     "end_time": "2023-07-21T01:25:51.853751",
     "exception": false,
     "start_time": "2023-07-21T01:25:51.843445",
     "status": "completed"
    },
    "tags": []
   },
   "source": [
    "## Plot VADER Results"
   ]
  },
  {
   "cell_type": "code",
   "execution_count": 17,
   "id": "d7dcf6b6",
   "metadata": {
    "execution": {
     "iopub.execute_input": "2023-07-21T01:25:51.877141Z",
     "iopub.status.busy": "2023-07-21T01:25:51.876687Z",
     "iopub.status.idle": "2023-07-21T01:25:52.353503Z",
     "shell.execute_reply": "2023-07-21T01:25:52.352145Z"
    },
    "papermill": {
     "duration": 0.491925,
     "end_time": "2023-07-21T01:25:52.356350",
     "exception": false,
     "start_time": "2023-07-21T01:25:51.864425",
     "status": "completed"
    },
    "tags": []
   },
   "outputs": [
    {
     "data": {
      "image/png": "[encoded data removed]",
      "text/plain": [
       "<Figure size 640x480 with 1 Axes>"
      ]
     },
     "metadata": {},
     "output_type": "display_data"
    }
   ],
   "source": [
    "ax = sns.barplot(data=vaders, x='Score', y='compound')\n",
    "ax.set_title('Compound Score by Amazon Star Review')\n",
    "plt.show()"
   ]
  }
 ],
 "metadata": {
  "kernelspec": {
   "display_name": "Python 3",
   "language": "python",
   "name": "python3"
  },
  "language_info": {
   "codemirror_mode": {
    "name": "ipython",
    "version": 3
   },
   "file_extension": ".py",
   "mimetype": "text/x-python",
   "name": "python",
   "nbconvert_exporter": "python",
   "pygments_lexer": "ipython3",
   "version": "3.10.12"
  },
  "papermill": {
   "default_parameters": {},
   "duration": 28.688956,
   "end_time": "2023-07-21T01:25:53.693761",
   "environment_variables": {},
   "exception": null,
   "input_path": "__notebook__.ipynb",
   "output_path": "__notebook__.ipynb",
   "parameters": {},
   "start_time": "2023-07-21T01:25:25.004805",
   "version": "2.4.0"
  },
  "widgets": {
   "application/vnd.jupyter.widget-state+json": {
    "state": {
     "03a69b8a93f14a2ab3c2ee9128f0cfc8": {
      "model_module": "@jupyter-widgets/controls",
      "model_module_version": "1.5.0",
      "model_name": "HTMLModel",
      "state": {
       "_dom_classes": [],
       "_model_module": "@jupyter-widgets/controls",
       "_model_module_version": "1.5.0",
       "_model_name": "HTMLModel",
       "_view_count": null,
       "_view_module": "@jupyter-widgets/controls",
       "_view_module_version": "1.5.0",
       "_view_name": "HTMLView",
       "description": "",
       "description_tooltip": null,
       "layout": "IPY_MODEL_a33b88cf0dc94d6dab39ddce43f24662",
       "placeholder": "​",
       "style": "IPY_MODEL_80147763797e46398c1450cdb9ac5a90",
       "value": " 500/500 [00:00&lt;00:00, 760.16it/s]"
      }
     },
     "0782622ed5be4c12aab1d4847efca969": {
      "model_module": "@jupyter-widgets/controls",
      "model_module_version": "1.5.0",
      "model_name": "ProgressStyleModel",
      "state": {
       "_model_module": "@jupyter-widgets/controls",
       "_model_module_version": "1.5.0",
       "_model_name": "ProgressStyleModel",
       "_view_count": null,
       "_view_module": "@jupyter-widgets/base",
       "_view_module_version": "1.2.0",
       "_view_name": "StyleView",
       "bar_color": null,
       "description_width": ""
      }
     },
     "7672df3f5853498cb313c11eec0a8e40": {
      "model_module": "@jupyter-widgets/controls",
      "model_module_version": "1.5.0",
      "model_name": "DescriptionStyleModel",
      "state": {
       "_model_module": "@jupyter-widgets/controls",
       "_model_module_version": "1.5.0",
       "_model_name": "DescriptionStyleModel",
       "_view_count": null,
       "_view_module": "@jupyter-widgets/base",
       "_view_module_version": "1.2.0",
       "_view_name": "StyleView",
       "description_width": ""
      }
     },
     "78972da026a7456a824d742de20ff3b6": {
      "model_module": "@jupyter-widgets/base",
      "model_module_version": "1.2.0",
      "model_name": "LayoutModel",
      "state": {
       "_model_module": "@jupyter-widgets/base",
       "_model_module_version": "1.2.0",
       "_model_name": "LayoutModel",
       "_view_count": null,
       "_view_module": "@jupyter-widgets/base",
       "_view_module_version": "1.2.0",
       "_view_name": "LayoutView",
       "align_content": null,
       "align_items": null,
       "align_self": null,
       "border": null,
       "bottom": null,
       "display": null,
       "flex": null,
       "flex_flow": null,
       "grid_area": null,
       "grid_auto_columns": null,
       "grid_auto_flow": null,
       "grid_auto_rows": null,
       "grid_column": null,
       "grid_gap": null,
       "grid_row": null,
       "grid_template_areas": null,
       "grid_template_columns": null,
       "grid_template_rows": null,
       "height": null,
       "justify_content": null,
       "justify_items": null,
       "left": null,
       "margin": null,
       "max_height": null,
       "max_width": null,
       "min_height": null,
       "min_width": null,
       "object_fit": null,
       "object_position": null,
       "order": null,
       "overflow": null,
       "overflow_x": null,
       "overflow_y": null,
       "padding": null,
       "right": null,
       "top": null,
       "visibility": null,
       "width": null
      }
     },
     "80147763797e46398c1450cdb9ac5a90": {
      "model_module": "@jupyter-widgets/controls",
      "model_module_version": "1.5.0",
      "model_name": "DescriptionStyleModel",
      "state": {
       "_model_module": "@jupyter-widgets/controls",
       "_model_module_version": "1.5.0",
       "_model_name": "DescriptionStyleModel",
       "_view_count": null,
       "_view_module": "@jupyter-widgets/base",
       "_view_module_version": "1.2.0",
       "_view_name": "StyleView",
       "description_width": ""
      }
     },
     "92f33f5ab3274ae3ad83272f5e2783e7": {
      "model_module": "@jupyter-widgets/base",
      "model_module_version": "1.2.0",
      "model_name": "LayoutModel",
      "state": {
       "_model_module": "@jupyter-widgets/base",
       "_model_module_version": "1.2.0",
       "_model_name": "LayoutModel",
       "_view_count": null,
       "_view_module": "@jupyter-widgets/base",
       "_view_module_version": "1.2.0",
       "_view_name": "LayoutView",
       "align_content": null,
       "align_items": null,
       "align_self": null,
       "border": null,
       "bottom": null,
       "display": null,
       "flex": null,
       "flex_flow": null,
       "grid_area": null,
       "grid_auto_columns": null,
       "grid_auto_flow": null,
       "grid_auto_rows": null,
       "grid_column": null,
       "grid_gap": null,
       "grid_row": null,
       "grid_template_areas": null,
       "grid_template_columns": null,
       "grid_template_rows": null,
       "height": null,
       "justify_content": null,
       "justify_items": null,
       "left": null,
       "margin": null,
       "max_height": null,
       "max_width": null,
       "min_height": null,
       "min_width": null,
       "object_fit": null,
       "object_position": null,
       "order": null,
       "overflow": null,
       "overflow_x": null,
       "overflow_y": null,
       "padding": null,
       "right": null,
       "top": null,
       "visibility": null,
       "width": null
      }
     },
     "a33b88cf0dc94d6dab39ddce43f24662": {
      "model_module": "@jupyter-widgets/base",
      "model_module_version": "1.2.0",
      "model_name": "LayoutModel",
      "state": {
       "_model_module": "@jupyter-widgets/base",
       "_model_module_version": "1.2.0",
       "_model_name": "LayoutModel",
       "_view_count": null,
       "_view_module": "@jupyter-widgets/base",
       "_view_module_version": "1.2.0",
       "_view_name": "LayoutView",
       "align_content": null,
       "align_items": null,
       "align_self": null,
       "border": null,
       "bottom": null,
       "display": null,
       "flex": null,
       "flex_flow": null,
       "grid_area": null,
       "grid_auto_columns": null,
       "grid_auto_flow": null,
       "grid_auto_rows": null,
       "grid_column": null,
       "grid_gap": null,
       "grid_row": null,
       "grid_template_areas": null,
       "grid_template_columns": null,
       "grid_template_rows": null,
       "height": null,
       "justify_content": null,
       "justify_items": null,
       "left": null,
       "margin": null,
       "max_height": null,
       "max_width": null,
       "min_height": null,
       "min_width": null,
       "object_fit": null,
       "object_position": null,
       "order": null,
       "overflow": null,
       "overflow_x": null,
       "overflow_y": null,
       "padding": null,
       "right": null,
       "top": null,
       "visibility": null,
       "width": null
      }
     },
     "b8967e1f27f34a30b476c91b7cefa7b0": {
      "model_module": "@jupyter-widgets/controls",
      "model_module_version": "1.5.0",
      "model_name": "FloatProgressModel",
      "state": {
       "_dom_classes": [],
       "_model_module": "@jupyter-widgets/controls",
       "_model_module_version": "1.5.0",
       "_model_name": "FloatProgressModel",
       "_view_count": null,
       "_view_module": "@jupyter-widgets/controls",
       "_view_module_version": "1.5.0",
       "_view_name": "ProgressView",
       "bar_style": "success",
       "description": "",
       "description_tooltip": null,
       "layout": "IPY_MODEL_92f33f5ab3274ae3ad83272f5e2783e7",
       "max": 500.0,
       "min": 0.0,
       "orientation": "horizontal",
       "style": "IPY_MODEL_0782622ed5be4c12aab1d4847efca969",
       "value": 500.0
      }
     },
     "d0318683b60a41648fc1344a148002fc": {
      "model_module": "@jupyter-widgets/base",
      "model_module_version": "1.2.0",
      "model_name": "LayoutModel",
      "state": {
       "_model_module": "@jupyter-widgets/base",
       "_model_module_version": "1.2.0",
       "_model_name": "LayoutModel",
       "_view_count": null,
       "_view_module": "@jupyter-widgets/base",
       "_view_module_version": "1.2.0",
       "_view_name": "LayoutView",
       "align_content": null,
       "align_items": null,
       "align_self": null,
       "border": null,
       "bottom": null,
       "display": null,
       "flex": null,
       "flex_flow": null,
       "grid_area": null,
       "grid_auto_columns": null,
       "grid_auto_flow": null,
       "grid_auto_rows": null,
       "grid_column": null,
       "grid_gap": null,
       "grid_row": null,
       "grid_template_areas": null,
       "grid_template_columns": null,
       "grid_template_rows": null,
       "height": null,
       "justify_content": null,
       "justify_items": null,
       "left": null,
       "margin": null,
       "max_height": null,
       "max_width": null,
       "min_height": null,
       "min_width": null,
       "object_fit": null,
       "object_position": null,
       "order": null,
       "overflow": null,
       "overflow_x": null,
       "overflow_y": null,
       "padding": null,
       "right": null,
       "top": null,
       "visibility": null,
       "width": null
      }
     },
     "dad2ba75228e4625bf7bb6c2c0e8c0cb": {
      "model_module": "@jupyter-widgets/controls",
      "model_module_version": "1.5.0",
      "model_name": "HTMLModel",
      "state": {
       "_dom_classes": [],
       "_model_module": "@jupyter-widgets/controls",
       "_model_module_version": "1.5.0",
       "_model_name": "HTMLModel",
       "_view_count": null,
       "_view_module": "@jupyter-widgets/controls",
       "_view_module_version": "1.5.0",
       "_view_name": "HTMLView",
       "description": "",
       "description_tooltip": null,
       "layout": "IPY_MODEL_d0318683b60a41648fc1344a148002fc",
       "placeholder": "​",
       "style": "IPY_MODEL_7672df3f5853498cb313c11eec0a8e40",
       "value": "100%"
      }
     },
     "dfb8e0b76bfb4025a77b86d3fd4c42cf": {
      "model_module": "@jupyter-widgets/controls",
      "model_module_version": "1.5.0",
      "model_name": "HBoxModel",
      "state": {
       "_dom_classes": [],
       "_model_module": "@jupyter-widgets/controls",
       "_model_module_version": "1.5.0",
       "_model_name": "HBoxModel",
       "_view_count": null,
       "_view_module": "@jupyter-widgets/controls",
       "_view_module_version": "1.5.0",
       "_view_name": "HBoxView",
       "box_style": "",
       "children": [
        "IPY_MODEL_dad2ba75228e4625bf7bb6c2c0e8c0cb",
        "IPY_MODEL_b8967e1f27f34a30b476c91b7cefa7b0",
        "IPY_MODEL_03a69b8a93f14a2ab3c2ee9128f0cfc8"
       ],
       "layout": "IPY_MODEL_78972da026a7456a824d742de20ff3b6"
      }
     }
    },
    "version_major": 2,
    "version_minor": 0
   }
  }
 },
 "nbformat": 4,
 "nbformat_minor": 5
}
