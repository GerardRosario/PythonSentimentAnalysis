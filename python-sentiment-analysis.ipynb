{
 "cells": [
  {
   "cell_type": "code",
   "execution_count": 1,
   "id": "5d702d7f",
   "metadata": {
    "_cell_guid": "b1076dfc-b9ad-4769-8c92-a6c4dae69d19",
    "_uuid": "8f2839f25d086af736a60e9eeb907d3b93b6e0e5",
    "execution": {
     "iopub.execute_input": "2023-07-20T01:32:25.880801Z",
     "iopub.status.busy": "2023-07-20T01:32:25.880249Z",
     "iopub.status.idle": "2023-07-20T01:32:25.903185Z",
     "shell.execute_reply": "2023-07-20T01:32:25.901845Z"
    },
    "papermill": {
     "duration": 0.033345,
     "end_time": "2023-07-20T01:32:25.906129",
     "exception": false,
     "start_time": "2023-07-20T01:32:25.872784",
     "status": "completed"
    },
    "tags": []
   },
   "outputs": [
    {
     "name": "stdout",
     "output_type": "stream",
     "text": [
      "/kaggle/input/amazon-fine-food-review/Reviews.csv/Reviews.csv\n",
      "/kaggle/input/amazon-fine-food-review/database.sqlite/database.sqlite\n"
     ]
    }
   ],
   "source": [
    "# This Python 3 environment comes with many helpful analytics libraries installed\n",
    "# It is defined by the kaggle/python Docker image: https://github.com/kaggle/docker-python\n",
    "# For example, here's several helpful packages to load\n",
    "\n",
    "import numpy as np # linear algebra\n",
    "import pandas as pd # data processing, CSV file I/O (e.g. pd.read_csv)\n",
    "\n",
    "# Input data files are available in the read-only \"../input/\" directory\n",
    "# For example, running this (by clicking run or pressing Shift+Enter) will list all files under the input directory\n",
    "\n",
    "import os\n",
    "for dirname, _, filenames in os.walk('/kaggle/input'):\n",
    "    for filename in filenames:\n",
    "        print(os.path.join(dirname, filename))\n",
    "\n",
    "# You can write up to 20GB to the current directory (/kaggle/working/) that gets preserved as output when you create a version using \"Save & Run All\" \n",
    "# You can also write temporary files to /kaggle/temp/, but they won't be saved outside of the current session"
   ]
  },
  {
   "cell_type": "markdown",
   "id": "0c61eb90",
   "metadata": {
    "papermill": {
     "duration": 0.005381,
     "end_time": "2023-07-20T01:32:25.917252",
     "exception": false,
     "start_time": "2023-07-20T01:32:25.911871",
     "status": "completed"
    },
    "tags": []
   },
   "source": [
    "# Sentiment Analysis in Pythobn\n",
    "\n",
    "Sentiment analysis in python suing these techniques:\n",
    "\n",
    "1. Vader (Valence Aware Dictionary and Sentiment Reasoner)\n",
    "2. Roberta Pretrained model\n",
    "3. Huggingface Pipeline"
   ]
  },
  {
   "cell_type": "markdown",
   "id": "4be5907b",
   "metadata": {
    "papermill": {
     "duration": 0.006808,
     "end_time": "2023-07-20T01:32:25.933961",
     "exception": false,
     "start_time": "2023-07-20T01:32:25.927153",
     "status": "completed"
    },
    "tags": []
   },
   "source": [
    "## Step 0: Read in Data and NLTK Basics\n"
   ]
  },
  {
   "cell_type": "code",
   "execution_count": 2,
   "id": "7fef1f04",
   "metadata": {
    "execution": {
     "iopub.execute_input": "2023-07-20T01:32:25.950918Z",
     "iopub.status.busy": "2023-07-20T01:32:25.950039Z",
     "iopub.status.idle": "2023-07-20T01:32:28.523416Z",
     "shell.execute_reply": "2023-07-20T01:32:28.522029Z"
    },
    "papermill": {
     "duration": 2.584051,
     "end_time": "2023-07-20T01:32:28.526569",
     "exception": false,
     "start_time": "2023-07-20T01:32:25.942518",
     "status": "completed"
    },
    "tags": []
   },
   "outputs": [
    {
     "name": "stderr",
     "output_type": "stream",
     "text": [
      "/opt/conda/lib/python3.10/site-packages/scipy/__init__.py:146: UserWarning: A NumPy version >=1.16.5 and <1.23.0 is required for this version of SciPy (detected version 1.23.5\n",
      "  warnings.warn(f\"A NumPy version >={np_minversion} and <{np_maxversion}\"\n"
     ]
    }
   ],
   "source": [
    "import pandas as pd\n",
    "import numpy as np\n",
    "import matplotlib.pyplot as plt\n",
    "import seaborn as sns\n",
    "\n",
    "plt.style.use('ggplot')\n",
    "\n",
    "import nltk"
   ]
  },
  {
   "cell_type": "code",
   "execution_count": 3,
   "id": "f94b3097",
   "metadata": {
    "execution": {
     "iopub.execute_input": "2023-07-20T01:32:28.539275Z",
     "iopub.status.busy": "2023-07-20T01:32:28.538828Z",
     "iopub.status.idle": "2023-07-20T01:32:36.881621Z",
     "shell.execute_reply": "2023-07-20T01:32:36.879734Z"
    },
    "papermill": {
     "duration": 8.353396,
     "end_time": "2023-07-20T01:32:36.885297",
     "exception": false,
     "start_time": "2023-07-20T01:32:28.531901",
     "status": "completed"
    },
    "tags": []
   },
   "outputs": [
    {
     "name": "stdout",
     "output_type": "stream",
     "text": [
      "(568454, 10)\n",
      "(500, 10)\n"
     ]
    }
   ],
   "source": [
    "# Read the data\n",
    "df = pd.read_csv('/kaggle/input/amazon-fine-food-review/Reviews.csv/Reviews.csv')\n",
    "print(df.shape)\n",
    "df = df.head(500)\n",
    "print(df.shape)"
   ]
  },
  {
   "cell_type": "code",
   "execution_count": 4,
   "id": "e73aa6f7",
   "metadata": {
    "execution": {
     "iopub.execute_input": "2023-07-20T01:32:36.898288Z",
     "iopub.status.busy": "2023-07-20T01:32:36.897863Z",
     "iopub.status.idle": "2023-07-20T01:32:36.923762Z",
     "shell.execute_reply": "2023-07-20T01:32:36.922296Z"
    },
    "papermill": {
     "duration": 0.035346,
     "end_time": "2023-07-20T01:32:36.926386",
     "exception": false,
     "start_time": "2023-07-20T01:32:36.891040",
     "status": "completed"
    },
    "tags": []
   },
   "outputs": [
    {
     "data": {
      "text/html": [
       "<div>\n",
       "<style scoped>\n",
       "    .dataframe tbody tr th:only-of-type {\n",
       "        vertical-align: middle;\n",
       "    }\n",
       "\n",
       "    .dataframe tbody tr th {\n",
       "        vertical-align: top;\n",
       "    }\n",
       "\n",
       "    .dataframe thead th {\n",
       "        text-align: right;\n",
       "    }\n",
       "</style>\n",
       "<table border=\"1\" class=\"dataframe\">\n",
       "  <thead>\n",
       "    <tr style=\"text-align: right;\">\n",
       "      <th></th>\n",
       "      <th>Id</th>\n",
       "      <th>ProductId</th>\n",
       "      <th>UserId</th>\n",
       "      <th>ProfileName</th>\n",
       "      <th>HelpfulnessNumerator</th>\n",
       "      <th>HelpfulnessDenominator</th>\n",
       "      <th>Score</th>\n",
       "      <th>Time</th>\n",
       "      <th>Summary</th>\n",
       "      <th>Text</th>\n",
       "    </tr>\n",
       "  </thead>\n",
       "  <tbody>\n",
       "    <tr>\n",
       "      <th>0</th>\n",
       "      <td>1</td>\n",
       "      <td>B001E4KFG0</td>\n",
       "      <td>A3SGXH7AUHU8GW</td>\n",
       "      <td>delmartian</td>\n",
       "      <td>1</td>\n",
       "      <td>1</td>\n",
       "      <td>5</td>\n",
       "      <td>1303862400</td>\n",
       "      <td>Good Quality Dog Food</td>\n",
       "      <td>I have bought several of the Vitality canned d...</td>\n",
       "    </tr>\n",
       "    <tr>\n",
       "      <th>1</th>\n",
       "      <td>2</td>\n",
       "      <td>B00813GRG4</td>\n",
       "      <td>A1D87F6ZCVE5NK</td>\n",
       "      <td>dll pa</td>\n",
       "      <td>0</td>\n",
       "      <td>0</td>\n",
       "      <td>1</td>\n",
       "      <td>1346976000</td>\n",
       "      <td>Not as Advertised</td>\n",
       "      <td>Product arrived labeled as Jumbo Salted Peanut...</td>\n",
       "    </tr>\n",
       "    <tr>\n",
       "      <th>2</th>\n",
       "      <td>3</td>\n",
       "      <td>B000LQOCH0</td>\n",
       "      <td>ABXLMWJIXXAIN</td>\n",
       "      <td>Natalia Corres \"Natalia Corres\"</td>\n",
       "      <td>1</td>\n",
       "      <td>1</td>\n",
       "      <td>4</td>\n",
       "      <td>1219017600</td>\n",
       "      <td>\"Delight\" says it all</td>\n",
       "      <td>This is a confection that has been around a fe...</td>\n",
       "    </tr>\n",
       "    <tr>\n",
       "      <th>3</th>\n",
       "      <td>4</td>\n",
       "      <td>B000UA0QIQ</td>\n",
       "      <td>A395BORC6FGVXV</td>\n",
       "      <td>Karl</td>\n",
       "      <td>3</td>\n",
       "      <td>3</td>\n",
       "      <td>2</td>\n",
       "      <td>1307923200</td>\n",
       "      <td>Cough Medicine</td>\n",
       "      <td>If you are looking for the secret ingredient i...</td>\n",
       "    </tr>\n",
       "    <tr>\n",
       "      <th>4</th>\n",
       "      <td>5</td>\n",
       "      <td>B006K2ZZ7K</td>\n",
       "      <td>A1UQRSCLF8GW1T</td>\n",
       "      <td>Michael D. Bigham \"M. Wassir\"</td>\n",
       "      <td>0</td>\n",
       "      <td>0</td>\n",
       "      <td>5</td>\n",
       "      <td>1350777600</td>\n",
       "      <td>Great taffy</td>\n",
       "      <td>Great taffy at a great price.  There was a wid...</td>\n",
       "    </tr>\n",
       "  </tbody>\n",
       "</table>\n",
       "</div>"
      ],
      "text/plain": [
       "   Id   ProductId          UserId                      ProfileName  \\\n",
       "0   1  B001E4KFG0  A3SGXH7AUHU8GW                       delmartian   \n",
       "1   2  B00813GRG4  A1D87F6ZCVE5NK                           dll pa   \n",
       "2   3  B000LQOCH0   ABXLMWJIXXAIN  Natalia Corres \"Natalia Corres\"   \n",
       "3   4  B000UA0QIQ  A395BORC6FGVXV                             Karl   \n",
       "4   5  B006K2ZZ7K  A1UQRSCLF8GW1T    Michael D. Bigham \"M. Wassir\"   \n",
       "\n",
       "   HelpfulnessNumerator  HelpfulnessDenominator  Score        Time  \\\n",
       "0                     1                       1      5  1303862400   \n",
       "1                     0                       0      1  1346976000   \n",
       "2                     1                       1      4  1219017600   \n",
       "3                     3                       3      2  1307923200   \n",
       "4                     0                       0      5  1350777600   \n",
       "\n",
       "                 Summary                                               Text  \n",
       "0  Good Quality Dog Food  I have bought several of the Vitality canned d...  \n",
       "1      Not as Advertised  Product arrived labeled as Jumbo Salted Peanut...  \n",
       "2  \"Delight\" says it all  This is a confection that has been around a fe...  \n",
       "3         Cough Medicine  If you are looking for the secret ingredient i...  \n",
       "4            Great taffy  Great taffy at a great price.  There was a wid...  "
      ]
     },
     "execution_count": 4,
     "metadata": {},
     "output_type": "execute_result"
    }
   ],
   "source": [
    "df.head()"
   ]
  },
  {
   "cell_type": "markdown",
   "id": "c2263208",
   "metadata": {
    "papermill": {
     "duration": 0.005472,
     "end_time": "2023-07-20T01:32:36.937799",
     "exception": false,
     "start_time": "2023-07-20T01:32:36.932327",
     "status": "completed"
    },
    "tags": []
   },
   "source": [
    "## Quick EDA"
   ]
  },
  {
   "cell_type": "code",
   "execution_count": 5,
   "id": "19380471",
   "metadata": {
    "execution": {
     "iopub.execute_input": "2023-07-20T01:32:36.950975Z",
     "iopub.status.busy": "2023-07-20T01:32:36.950549Z",
     "iopub.status.idle": "2023-07-20T01:32:37.334289Z",
     "shell.execute_reply": "2023-07-20T01:32:37.332951Z"
    },
    "papermill": {
     "duration": 0.393672,
     "end_time": "2023-07-20T01:32:37.337138",
     "exception": false,
     "start_time": "2023-07-20T01:32:36.943466",
     "status": "completed"
    },
    "tags": []
   },
   "outputs": [
    {
     "data": {
      "image/png": "[encoded data removed]",
      "text/plain": [
       "<Figure size 1000x500 with 1 Axes>"
      ]
     },
     "metadata": {},
     "output_type": "display_data"
    }
   ],
   "source": [
    "ax = df['Score'].value_counts().sort_index().plot(kind='bar', title='Count of Reviews by Stars',\n",
    "                                    figsize=(10,5))\n",
    "ax.set_xlabel('Review Stars')\n",
    "plt.show()"
   ]
  },
  {
   "cell_type": "markdown",
   "id": "60423247",
   "metadata": {
    "papermill": {
     "duration": 0.00603,
     "end_time": "2023-07-20T01:32:37.349483",
     "exception": false,
     "start_time": "2023-07-20T01:32:37.343453",
     "status": "completed"
    },
    "tags": []
   },
   "source": [
    "## Basicc NLTK"
   ]
  },
  {
   "cell_type": "code",
   "execution_count": 6,
   "id": "0bfa93a7",
   "metadata": {
    "execution": {
     "iopub.execute_input": "2023-07-20T01:32:37.365294Z",
     "iopub.status.busy": "2023-07-20T01:32:37.364794Z",
     "iopub.status.idle": "2023-07-20T01:32:37.372065Z",
     "shell.execute_reply": "2023-07-20T01:32:37.370552Z"
    },
    "papermill": {
     "duration": 0.019158,
     "end_time": "2023-07-20T01:32:37.375199",
     "exception": false,
     "start_time": "2023-07-20T01:32:37.356041",
     "status": "completed"
    },
    "tags": []
   },
   "outputs": [
    {
     "name": "stdout",
     "output_type": "stream",
     "text": [
      "This oatmeal is not good. Its mushy, soft, I don't like it. Quaker Oats is the way to go.\n"
     ]
    }
   ],
   "source": [
    "example = df['Text'][50]\n",
    "print(example)"
   ]
  },
  {
   "cell_type": "code",
   "execution_count": 7,
   "id": "b8601d2f",
   "metadata": {
    "execution": {
     "iopub.execute_input": "2023-07-20T01:32:37.393526Z",
     "iopub.status.busy": "2023-07-20T01:32:37.392932Z",
     "iopub.status.idle": "2023-07-20T01:32:37.421371Z",
     "shell.execute_reply": "2023-07-20T01:32:37.419936Z"
    },
    "papermill": {
     "duration": 0.04169,
     "end_time": "2023-07-20T01:32:37.424381",
     "exception": false,
     "start_time": "2023-07-20T01:32:37.382691",
     "status": "completed"
    },
    "tags": []
   },
   "outputs": [
    {
     "data": {
      "text/plain": [
       "['This', 'oatmeal', 'is', 'not', 'good', '.', 'Its', 'mushy', ',', 'soft']"
      ]
     },
     "execution_count": 7,
     "metadata": {},
     "output_type": "execute_result"
    }
   ],
   "source": [
    "tokens = nltk.word_tokenize(example)\n",
    "tokens[:10]"
   ]
  },
  {
   "cell_type": "code",
   "execution_count": 8,
   "id": "7cb6233c",
   "metadata": {
    "execution": {
     "iopub.execute_input": "2023-07-20T01:32:37.441255Z",
     "iopub.status.busy": "2023-07-20T01:32:37.440510Z",
     "iopub.status.idle": "2023-07-20T01:32:37.611594Z",
     "shell.execute_reply": "2023-07-20T01:32:37.609841Z"
    },
    "papermill": {
     "duration": 0.183911,
     "end_time": "2023-07-20T01:32:37.615020",
     "exception": false,
     "start_time": "2023-07-20T01:32:37.431109",
     "status": "completed"
    },
    "tags": []
   },
   "outputs": [
    {
     "data": {
      "text/plain": [
       "[('This', 'DT'),\n",
       " ('oatmeal', 'NN'),\n",
       " ('is', 'VBZ'),\n",
       " ('not', 'RB'),\n",
       " ('good', 'JJ'),\n",
       " ('.', '.'),\n",
       " ('Its', 'PRP$'),\n",
       " ('mushy', 'NN'),\n",
       " (',', ','),\n",
       " ('soft', 'JJ')]"
      ]
     },
     "execution_count": 8,
     "metadata": {},
     "output_type": "execute_result"
    }
   ],
   "source": [
    "tagged = nltk.pos_tag(tokens)\n",
    "tagged[:10]"
   ]
  },
  {
   "cell_type": "code",
   "execution_count": 9,
   "id": "6e3026df",
   "metadata": {
    "execution": {
     "iopub.execute_input": "2023-07-20T01:32:37.632919Z",
     "iopub.status.busy": "2023-07-20T01:32:37.632406Z",
     "iopub.status.idle": "2023-07-20T01:32:37.794076Z",
     "shell.execute_reply": "2023-07-20T01:32:37.792338Z"
    },
    "papermill": {
     "duration": 0.173124,
     "end_time": "2023-07-20T01:32:37.797206",
     "exception": false,
     "start_time": "2023-07-20T01:32:37.624082",
     "status": "completed"
    },
    "tags": []
   },
   "outputs": [
    {
     "name": "stdout",
     "output_type": "stream",
     "text": [
      "(S\n",
      "  This/DT\n",
      "  oatmeal/NN\n",
      "  is/VBZ\n",
      "  not/RB\n",
      "  good/JJ\n",
      "  ./.\n",
      "  Its/PRP$\n",
      "  mushy/NN\n",
      "  ,/,\n",
      "  soft/JJ\n",
      "  ,/,\n",
      "  I/PRP\n",
      "  do/VBP\n",
      "  n't/RB\n",
      "  like/VB\n",
      "  it/PRP\n",
      "  ./.\n",
      "  (ORGANIZATION Quaker/NNP Oats/NNPS)\n",
      "  is/VBZ\n",
      "  the/DT\n",
      "  way/NN\n",
      "  to/TO\n",
      "  go/VB\n",
      "  ./.)\n"
     ]
    }
   ],
   "source": [
    "entities = nltk.chunk.ne_chunk(tagged)\n",
    "entities.pprint()"
   ]
  },
  {
   "cell_type": "markdown",
   "id": "8a629010",
   "metadata": {
    "papermill": {
     "duration": 0.007142,
     "end_time": "2023-07-20T01:32:37.811388",
     "exception": false,
     "start_time": "2023-07-20T01:32:37.804246",
     "status": "completed"
    },
    "tags": []
   },
   "source": [
    "## Step 1: VADER Sentiment Scoring"
   ]
  }
 ],
 "metadata": {
  "kernelspec": {
   "display_name": "Python 3",
   "language": "python",
   "name": "python3"
  },
  "language_info": {
   "codemirror_mode": {
    "name": "ipython",
    "version": 3
   },
   "file_extension": ".py",
   "mimetype": "text/x-python",
   "name": "python",
   "nbconvert_exporter": "python",
   "pygments_lexer": "ipython3",
   "version": "3.10.12"
  },
  "papermill": {
   "default_parameters": {},
   "duration": 26.523777,
   "end_time": "2023-07-20T01:32:39.145693",
   "environment_variables": {},
   "exception": null,
   "input_path": "__notebook__.ipynb",
   "output_path": "__notebook__.ipynb",
   "parameters": {},
   "start_time": "2023-07-20T01:32:12.621916",
   "version": "2.4.0"
  }
 },
 "nbformat": 4,
 "nbformat_minor": 5
}
